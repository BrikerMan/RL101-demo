{
 "cells": [
  {
   "cell_type": "markdown",
   "id": "a446462f-d143-4cb3-90a5-0499ba0736c4",
   "metadata": {},
   "source": [
    "## Gym Framework"
   ]
  },
  {
   "cell_type": "code",
   "execution_count": 19,
   "id": "1f5e7fd3-09d5-4fa5-9ab4-679a8691ef46",
   "metadata": {
    "execution": {
     "iopub.execute_input": "2021-10-14T12:17:50.788061Z",
     "iopub.status.busy": "2021-10-14T12:17:50.787468Z",
     "iopub.status.idle": "2021-10-14T12:17:52.773475Z",
     "shell.execute_reply": "2021-10-14T12:17:52.771979Z",
     "shell.execute_reply.started": "2021-10-14T12:17:50.787994Z"
    },
    "tags": []
   },
   "outputs": [
    {
     "name": "stdout",
     "output_type": "stream",
     "text": [
      "Looking in indexes: http://mirrors.aliyun.com/pypi/simple/\n",
      "Requirement already satisfied: gym in /usr/local/lib/python3.6/site-packages (0.21.0)\n",
      "Requirement already satisfied: numpy>=1.18.0 in /usr/local/lib/python3.6/site-packages (from gym) (1.19.5)\n",
      "Requirement already satisfied: cloudpickle>=1.2.0 in /usr/local/lib/python3.6/site-packages (from gym) (1.6.0)\n",
      "Requirement already satisfied: importlib-metadata>=4.8.1 in /usr/local/lib/python3.6/site-packages (from gym) (4.8.1)\n",
      "Requirement already satisfied: zipp>=0.5 in /usr/local/lib/python3.6/site-packages (from importlib-metadata>=4.8.1->gym) (3.5.0)\n",
      "Requirement already satisfied: typing-extensions>=3.6.4 in /usr/local/lib/python3.6/site-packages (from importlib-metadata>=4.8.1->gym) (3.10.0.0)\n",
      "\u001b[33mWARNING: Running pip as root will break packages and permissions. You should install packages reliably by using venv: https://pip.pypa.io/warnings/venv\u001b[0m\n"
     ]
    }
   ],
   "source": [
    "!pip install gym"
   ]
  },
  {
   "cell_type": "code",
   "execution_count": 20,
   "id": "0d46ae98-db9d-4c9f-ab38-97261426c3fc",
   "metadata": {
    "execution": {
     "iopub.execute_input": "2021-10-14T12:17:55.771919Z",
     "iopub.status.busy": "2021-10-14T12:17:55.771314Z",
     "iopub.status.idle": "2021-10-14T12:17:55.794545Z",
     "shell.execute_reply": "2021-10-14T12:17:55.793119Z",
     "shell.execute_reply.started": "2021-10-14T12:17:55.771848Z"
    },
    "tags": []
   },
   "outputs": [
    {
     "name": "stdout",
     "output_type": "stream",
     "text": [
      "+---------+\n",
      "|\u001b[35mR\u001b[0m: | : :G|\n",
      "| : | : : |\n",
      "| : : : :\u001b[43m \u001b[0m|\n",
      "| | : | : |\n",
      "|Y| : |\u001b[34;1mB\u001b[0m: |\n",
      "+---------+\n",
      "\n"
     ]
    }
   ],
   "source": [
    "import gym\n",
    "\n",
    "# 初始化 Taxi-v3 环境\n",
    "env = gym.make(\"Taxi-v3\")\n",
    "# 渲染环境当状态\n",
    "# 需要注意，不同的环境会有不同的渲染模式。Taxi-v3 环境默认以字符串形式渲染。\n",
    "env.render()"
   ]
  },
  {
   "cell_type": "code",
   "execution_count": 26,
   "id": "0cc0d193-14b9-4e50-a3b5-9d6239edc970",
   "metadata": {
    "execution": {
     "iopub.execute_input": "2021-10-14T12:18:31.009802Z",
     "iopub.status.busy": "2021-10-14T12:18:31.009219Z",
     "iopub.status.idle": "2021-10-14T12:18:31.018503Z",
     "shell.execute_reply": "2021-10-14T12:18:31.017078Z",
     "shell.execute_reply.started": "2021-10-14T12:18:31.009736Z"
    },
    "tags": []
   },
   "outputs": [
    {
     "name": "stdout",
     "output_type": "stream",
     "text": [
      "+---------+\n",
      "|\u001b[35mR\u001b[0m: | : :G|\n",
      "| : | : : |\n",
      "| : : : : |\n",
      "| | : |\u001b[43m \u001b[0m: |\n",
      "|Y| : |\u001b[34;1mB\u001b[0m: |\n",
      "+---------+\n",
      "  (South)\n"
     ]
    }
   ],
   "source": [
    "# 注意在第一次执行 step 前需要 reset 一次\n",
    "env.reset()\n",
    "env.step(action=0)\n",
    "env.render()"
   ]
  },
  {
   "cell_type": "code",
   "execution_count": 27,
   "id": "319657cd-c822-4a24-ba24-bfb8e844ca5c",
   "metadata": {
    "execution": {
     "iopub.execute_input": "2021-10-14T12:18:32.282941Z",
     "iopub.status.busy": "2021-10-14T12:18:32.282330Z",
     "iopub.status.idle": "2021-10-14T12:18:32.290633Z",
     "shell.execute_reply": "2021-10-14T12:18:32.289437Z",
     "shell.execute_reply.started": "2021-10-14T12:18:32.282873Z"
    },
    "tags": []
   },
   "outputs": [
    {
     "name": "stdout",
     "output_type": "stream",
     "text": [
      "+---------+\n",
      "|\u001b[35mR\u001b[0m: | : :G|\n",
      "| : | : : |\n",
      "| : : : : |\n",
      "| | : | : |\n",
      "|Y| : |\u001b[34;1m\u001b[43mB\u001b[0m\u001b[0m: |\n",
      "+---------+\n",
      "  (South)\n"
     ]
    }
   ],
   "source": [
    "env.step(action=0)\n",
    "env.render()"
   ]
  },
  {
   "cell_type": "code",
   "execution_count": 28,
   "id": "5f6e704c-920e-435c-9ddb-67593cfe679d",
   "metadata": {
    "execution": {
     "iopub.execute_input": "2021-10-14T12:18:33.192999Z",
     "iopub.status.busy": "2021-10-14T12:18:33.192499Z",
     "iopub.status.idle": "2021-10-14T12:18:33.201793Z",
     "shell.execute_reply": "2021-10-14T12:18:33.200357Z",
     "shell.execute_reply.started": "2021-10-14T12:18:33.192937Z"
    },
    "tags": []
   },
   "outputs": [
    {
     "name": "stdout",
     "output_type": "stream",
     "text": [
      "+---------+\n",
      "|\u001b[35mR\u001b[0m: | : :G|\n",
      "| : | : : |\n",
      "| : : : : |\n",
      "| | : | : |\n",
      "|Y| : |\u001b[34;1m\u001b[43mB\u001b[0m\u001b[0m: |\n",
      "+---------+\n",
      "  (South)\n"
     ]
    }
   ],
   "source": [
    "env.step(action=0)\n",
    "env.render()"
   ]
  },
  {
   "cell_type": "markdown",
   "id": "75122c9b-06ed-4639-b664-dd5766a2551d",
   "metadata": {},
   "source": [
    "## Random Action Agent"
   ]
  },
  {
   "cell_type": "markdown",
   "id": "d052ccde-5dfd-43af-8379-ec65d00725b0",
   "metadata": {},
   "source": [
    "### 初始化 Random Agent 并且记录所有的步骤状态"
   ]
  },
  {
   "cell_type": "code",
   "execution_count": 29,
   "id": "ab9e45be-6aa9-4bdc-b689-a7e8bbceb5bd",
   "metadata": {
    "execution": {
     "iopub.execute_input": "2021-10-14T12:19:16.241092Z",
     "iopub.status.busy": "2021-10-14T12:19:16.240418Z",
     "iopub.status.idle": "2021-10-14T12:19:16.274914Z",
     "shell.execute_reply": "2021-10-14T12:19:16.273838Z",
     "shell.execute_reply.started": "2021-10-14T12:19:16.241024Z"
    },
    "tags": []
   },
   "outputs": [],
   "source": [
    "import gym\n",
    "import tqdm\n",
    "import random\n",
    "import numpy as np\n",
    "# seaborn 是 matplotlib 框架的高级封装，可以很方便绘制一些常见图像\n",
    "# 如果没有安装需要在终端通过 pip 命令安装\n",
    "import seaborn as sns\n",
    "import matplotlib.pyplot as plt\n",
    "from IPython.display import clear_output\n",
    "from time import sleep\n",
    "\n",
    "plt.rcParams['figure.dpi'] = 180\n",
    "\n",
    "# 此处取了环境对象里的 env 对象，因为 make 方法返回的 env 对象带有最高尝试次数限制\n",
    "# 即尝试 200 次以后自动判别为结束。此实验我们不需要这个限制\n",
    "env = gym.make(\"Taxi-v3\").env\n",
    "\n",
    "def test_random_action_policy(episodes=100):\n",
    "    episode_steps = []\n",
    "    episode_frames = []\n",
    "    for _ in tqdm.tqdm(range(episodes)):\n",
    "        observation = env.reset()\n",
    "        done = False\n",
    "        step = 0\n",
    "        frames = []\n",
    "        while not done:\n",
    "            # 随机返回一个动作\n",
    "            action = env.action_space.sample()\n",
    "            observation, reward, done, info = env.step(action)\n",
    "\n",
    "            # 保存过程信息用于可视化\n",
    "            frames.append({\n",
    "                'frame': env.render(mode='ansi'),\n",
    "                'state': observation,\n",
    "                'action': action,\n",
    "                'reward': reward\n",
    "            })\n",
    "\n",
    "            step += 1\n",
    "        episode_frames.append(frames)\n",
    "        episode_steps.append(step)\n",
    "    return episode_steps, episode_frames"
   ]
  },
  {
   "cell_type": "code",
   "execution_count": 30,
   "id": "37627e2c-6617-4c40-ad43-4726b188b0be",
   "metadata": {
    "execution": {
     "iopub.execute_input": "2021-10-14T12:19:19.435796Z",
     "iopub.status.busy": "2021-10-14T12:19:19.435189Z",
     "iopub.status.idle": "2021-10-14T12:19:31.602984Z",
     "shell.execute_reply": "2021-10-14T12:19:31.602263Z",
     "shell.execute_reply.started": "2021-10-14T12:19:19.435727Z"
    },
    "tags": []
   },
   "outputs": [
    {
     "name": "stderr",
     "output_type": "stream",
     "text": [
      "100%|██████████| 100/100 [00:11<00:00,  8.42it/s]\n"
     ]
    },
    {
     "name": "stdout",
     "output_type": "stream",
     "text": [
      "Average steps: 2491.3\n"
     ]
    },
    {
     "data": {
      "image/png": "[encoded data removed]",
      "text/plain": [
       "<Figure size 1080x720 with 1 Axes>"
      ]
     },
     "metadata": {
      "needs_background": "light"
     },
     "output_type": "display_data"
    }
   ],
   "source": [
    "# 记录解决问题所用步数，并且可视化\n",
    "episode_steps, episode_frames = test_random_action_policy()\n",
    "sns.histplot(episode_steps)\n",
    "plt.title(\"Steps with random action policy\")\n",
    "print(f\"Average steps: {sum(episode_steps)/len(episode_steps)}\")"
   ]
  },
  {
   "cell_type": "code",
   "execution_count": 31,
   "id": "16af00dd-834e-4642-b3cd-7007d1f15dda",
   "metadata": {
    "execution": {
     "iopub.execute_input": "2021-10-14T12:20:29.580668Z",
     "iopub.status.busy": "2021-10-14T12:20:29.579542Z",
     "iopub.status.idle": "2021-10-14T12:27:37.959717Z",
     "shell.execute_reply": "2021-10-14T12:27:37.957519Z",
     "shell.execute_reply.started": "2021-10-14T12:20:29.580579Z"
    },
    "tags": []
   },
   "outputs": [
    {
     "name": "stdout",
     "output_type": "stream",
     "text": [
      "+---------+\n",
      "|\u001b[34;1mR\u001b[0m: | : :\u001b[35mG\u001b[0m|\n",
      "| : | : : |\n",
      "| : : : : |\n",
      "| | :\u001b[43m \u001b[0m| : |\n",
      "|Y| : |B: |\n",
      "+---------+\n",
      "  (South)\n",
      "\n",
      "Time Step: 4214\n",
      "State: 341\n",
      "Action: 0\n",
      "Reward: -1\n"
     ]
    },
    {
     "ename": "KeyboardInterrupt",
     "evalue": "",
     "output_type": "error",
     "traceback": [
      "\u001b[0;31m---------------------------------------------------------------------------\u001b[0m",
      "\u001b[0;31mKeyboardInterrupt\u001b[0m                         Traceback (most recent call last)",
      "\u001b[0;32m<ipython-input-31-fb382eda1cfa>\u001b[0m in \u001b[0;36m<module>\u001b[0;34m\u001b[0m\n\u001b[1;32m      9\u001b[0m         \u001b[0msleep\u001b[0m\u001b[0;34m(\u001b[0m\u001b[0;36m.1\u001b[0m\u001b[0;34m)\u001b[0m\u001b[0;34m\u001b[0m\u001b[0;34m\u001b[0m\u001b[0m\n\u001b[1;32m     10\u001b[0m \u001b[0;31m# 随机选择一个结果进行播放\u001b[0m\u001b[0;34m\u001b[0m\u001b[0;34m\u001b[0m\u001b[0;34m\u001b[0m\u001b[0m\n\u001b[0;32m---> 11\u001b[0;31m \u001b[0manimate_frames\u001b[0m\u001b[0;34m(\u001b[0m\u001b[0mrandom\u001b[0m\u001b[0;34m.\u001b[0m\u001b[0mchoice\u001b[0m\u001b[0;34m(\u001b[0m\u001b[0mepisode_frames\u001b[0m\u001b[0;34m)\u001b[0m\u001b[0;34m)\u001b[0m\u001b[0;34m\u001b[0m\u001b[0;34m\u001b[0m\u001b[0m\n\u001b[0m",
      "\u001b[0;32m<ipython-input-31-fb382eda1cfa>\u001b[0m in \u001b[0;36manimate_frames\u001b[0;34m(frames)\u001b[0m\n\u001b[1;32m      7\u001b[0m         \u001b[0mprint\u001b[0m\u001b[0;34m(\u001b[0m\u001b[0;34mf\"Action: {frame['action']}\"\u001b[0m\u001b[0;34m)\u001b[0m\u001b[0;34m\u001b[0m\u001b[0;34m\u001b[0m\u001b[0m\n\u001b[1;32m      8\u001b[0m         \u001b[0mprint\u001b[0m\u001b[0;34m(\u001b[0m\u001b[0;34mf\"Reward: {frame['reward']}\"\u001b[0m\u001b[0;34m)\u001b[0m\u001b[0;34m\u001b[0m\u001b[0;34m\u001b[0m\u001b[0m\n\u001b[0;32m----> 9\u001b[0;31m         \u001b[0msleep\u001b[0m\u001b[0;34m(\u001b[0m\u001b[0;36m.1\u001b[0m\u001b[0;34m)\u001b[0m\u001b[0;34m\u001b[0m\u001b[0;34m\u001b[0m\u001b[0m\n\u001b[0m\u001b[1;32m     10\u001b[0m \u001b[0;31m# 随机选择一个结果进行播放\u001b[0m\u001b[0;34m\u001b[0m\u001b[0;34m\u001b[0m\u001b[0;34m\u001b[0m\u001b[0m\n\u001b[1;32m     11\u001b[0m \u001b[0manimate_frames\u001b[0m\u001b[0;34m(\u001b[0m\u001b[0mrandom\u001b[0m\u001b[0;34m.\u001b[0m\u001b[0mchoice\u001b[0m\u001b[0;34m(\u001b[0m\u001b[0mepisode_frames\u001b[0m\u001b[0;34m)\u001b[0m\u001b[0;34m)\u001b[0m\u001b[0;34m\u001b[0m\u001b[0;34m\u001b[0m\u001b[0m\n",
      "\u001b[0;31mKeyboardInterrupt\u001b[0m: "
     ]
    }
   ],
   "source": [
    "def animate_frames(frames):\n",
    "    for i, frame in enumerate(frames):\n",
    "        clear_output(wait=True)\n",
    "        print(frame['frame'])\n",
    "        print(f\"Time Step: {i + 1}\")\n",
    "        print(f\"State: {frame['state']}\")\n",
    "        print(f\"Action: {frame['action']}\")\n",
    "        print(f\"Reward: {frame['reward']}\")\n",
    "        sleep(.1)\n",
    "# 随机选择一个结果进行播放\n",
    "animate_frames(random.choice(episode_frames))"
   ]
  },
  {
   "cell_type": "markdown",
   "id": "c30a1842-1c03-4b49-b16d-5b1701bcbd18",
   "metadata": {},
   "source": [
    "## Q Learning Agent"
   ]
  },
  {
   "cell_type": "markdown",
   "id": "a07418c5-06b5-4895-9d2b-f8c181f7ee6d",
   "metadata": {},
   "source": [
    "### Q Table 训练过程"
   ]
  },
  {
   "cell_type": "code",
   "execution_count": 32,
   "id": "3a167d4f-176f-4c75-b497-73a1afc3859a",
   "metadata": {
    "execution": {
     "iopub.execute_input": "2021-10-14T12:28:08.670193Z",
     "iopub.status.busy": "2021-10-14T12:28:08.669616Z",
     "iopub.status.idle": "2021-10-14T12:28:08.686815Z",
     "shell.execute_reply": "2021-10-14T12:28:08.685620Z",
     "shell.execute_reply.started": "2021-10-14T12:28:08.670126Z"
    },
    "tags": []
   },
   "outputs": [],
   "source": [
    "def q_learning_action_policy(alpha = 0.1,\n",
    "                             gamma = 0.6,\n",
    "                             random_action_rate = 0.15,\n",
    "                             episodes=100):\n",
    "    q_table = np.zeros([env.observation_space.n, env.action_space.n])\n",
    "    episode_steps = []\n",
    "    episode_frames = []\n",
    "\n",
    "    for episode in tqdm.trange(episodes):\n",
    "        observation = env.reset()\n",
    "\n",
    "        done, step, frames = False, 0, []\n",
    "\n",
    "        while not done:\n",
    "            # 一定比例采取随机行为，用于探索环境\n",
    "            if random.uniform(0, 1) < random_action_rate:\n",
    "                action = env.action_space.sample()\n",
    "            else:\n",
    "                action = np.argmax(q_table[observation])\n",
    "\n",
    "            # 执行行为，获取环境状态，奖励，是否完成等信息\n",
    "            next_observation, reward, done, info = env.step(action)\n",
    "\n",
    "            # 使用 Q-Learning 公式更新 Q 表\n",
    "            old_value = q_table[observation, action]\n",
    "            next_max = np.max(q_table[next_observation])\n",
    "\n",
    "            new_value = (1 - alpha) * old_value + alpha * (reward + gamma * next_max)\n",
    "            q_table[observation, action] = new_value\n",
    "\n",
    "            frames.append({\n",
    "                'frame': env.render(mode='ansi'),\n",
    "                'state': observation,\n",
    "                'action': action,\n",
    "                'reward': reward\n",
    "            })\n",
    "\n",
    "            observation = next_observation\n",
    "            step += 1\n",
    "        episode_steps.append(step)\n",
    "        episode_frames.append(frames)\n",
    "    return q_table, episode_steps, episode_frames"
   ]
  },
  {
   "cell_type": "code",
   "execution_count": 36,
   "id": "af9cab7a-ba88-4de6-bcfa-a80c240467fb",
   "metadata": {
    "execution": {
     "iopub.execute_input": "2021-10-14T12:31:46.897195Z",
     "iopub.status.busy": "2021-10-14T12:31:46.896575Z",
     "iopub.status.idle": "2021-10-14T12:32:12.311423Z",
     "shell.execute_reply": "2021-10-14T12:32:12.310686Z",
     "shell.execute_reply.started": "2021-10-14T12:31:46.897122Z"
    },
    "tags": []
   },
   "outputs": [
    {
     "name": "stderr",
     "output_type": "stream",
     "text": [
      "100%|██████████| 10000/10000 [00:21<00:00, 470.85it/s]\n"
     ]
    },
    {
     "name": "stdout",
     "output_type": "stream",
     "text": [
      "Average steps: 28.2084\n"
     ]
    },
    {
     "data": {
      "image/png": "[encoded data removed]",
      "text/plain": [
       "<Figure size 1080x720 with 1 Axes>"
      ]
     },
     "metadata": {
      "needs_background": "light"
     },
     "output_type": "display_data"
    }
   ],
   "source": [
    "q_table, episode_steps, episode_frames = q_learning_action_policy(episodes=10000)\n",
    "sns.histplot(episode_steps)\n",
    "plt.title(\"Steps with Q-Learning policy\")\n",
    "print(f\"Average steps: {sum(episode_steps)/len(episode_steps)}\")"
   ]
  },
  {
   "cell_type": "markdown",
   "id": "61b184bc-d268-481a-a580-dd707ac8a3e8",
   "metadata": {},
   "source": [
    "### 使用学习后的 Q Table 进行预测"
   ]
  },
  {
   "cell_type": "code",
   "execution_count": 37,
   "id": "ed217034-bf0f-4664-b81d-d005f29c8af2",
   "metadata": {
    "execution": {
     "iopub.execute_input": "2021-10-14T12:32:26.717886Z",
     "iopub.status.busy": "2021-10-14T12:32:26.717333Z",
     "iopub.status.idle": "2021-10-14T12:32:26.728501Z",
     "shell.execute_reply": "2021-10-14T12:32:26.727521Z",
     "shell.execute_reply.started": "2021-10-14T12:32:26.717824Z"
    },
    "tags": []
   },
   "outputs": [],
   "source": [
    "def test_q_learning_policy(q_table,\n",
    "                           episodes=100):\n",
    "    episode_steps = []\n",
    "    episode_frames = []\n",
    "    for episode in range(episodes):\n",
    "        observation = env.reset()\n",
    "        done = False\n",
    "        step = 0\n",
    "        frames = []\n",
    "        while not done:\n",
    "            # 完全按照 Q 表选择下一步行为\n",
    "            action = np.argmax(q_table[observation])\n",
    "            observation, reward, done, info = env.step(action)\n",
    "            frames.append({\n",
    "                'frame': env.render(mode='ansi'),\n",
    "                'state': observation,\n",
    "                'action': action,\n",
    "                'reward': reward\n",
    "            })\n",
    "            step += 1\n",
    "            # 测试时候加这条件的目的是为了防止之前训练没有训练好的情况下出现死循环\n",
    "            # 比如如果一直选择往上走，又没有随机行动，那么就会出现死循环，一直不结束\n",
    "            if step > 2000:\n",
    "                break\n",
    "        episode_frames.append(frames)\n",
    "        episode_steps.append(step)\n",
    "    return episode_steps, episode_frames"
   ]
  },
  {
   "cell_type": "code",
   "execution_count": 38,
   "id": "3cdeae04-eaeb-41de-80ff-48ba2f8f6d4e",
   "metadata": {
    "execution": {
     "iopub.execute_input": "2021-10-14T12:32:27.299044Z",
     "iopub.status.busy": "2021-10-14T12:32:27.298628Z",
     "iopub.status.idle": "2021-10-14T12:32:31.173627Z",
     "shell.execute_reply": "2021-10-14T12:32:31.172590Z",
     "shell.execute_reply.started": "2021-10-14T12:32:27.298995Z"
    },
    "tags": []
   },
   "outputs": [
    {
     "name": "stdout",
     "output_type": "stream",
     "text": [
      "Average steps: 331.03\n"
     ]
    },
    {
     "data": {
      "image/png": "[encoded data removed]",
      "text/plain": [
       "<Figure size 1080x720 with 1 Axes>"
      ]
     },
     "metadata": {
      "needs_background": "light"
     },
     "output_type": "display_data"
    }
   ],
   "source": [
    "episode_steps, episode_frames = test_q_learning_policy(q_table)\n",
    "sns.histplot(episode_steps)\n",
    "plt.title(\"Steps with Q-Learning policy\")\n",
    "print(f\"Average steps: {sum(episode_steps)/len(episode_steps)}\")"
   ]
  },
  {
   "cell_type": "code",
   "execution_count": 18,
   "id": "2347400f-49aa-4260-8bb0-e097dd500c6e",
   "metadata": {
    "execution": {
     "iopub.execute_input": "2021-10-14T12:02:06.067762Z",
     "iopub.status.busy": "2021-10-14T12:02:06.067171Z",
     "iopub.status.idle": "2021-10-14T12:02:06.078679Z",
     "shell.execute_reply": "2021-10-14T12:02:06.077484Z",
     "shell.execute_reply.started": "2021-10-14T12:02:06.067696Z"
    },
    "tags": []
   },
   "outputs": [
    {
     "data": {
      "text/plain": [
       "array([[ 0.        ,  0.        ,  0.        ,  0.        ,  0.        ,\n",
       "         0.        ],\n",
       "       [-1.78405644, -1.77991587, -1.77406708, -1.79219458, -1.78716265,\n",
       "        -1.96      ],\n",
       "       [-1.15440595, -1.14435669, -1.21588926, -1.14442103, -1.18469821,\n",
       "        -2.78032398],\n",
       "       ...,\n",
       "       [-0.96822561, -0.9698579 , -0.96822561, -0.93854263, -1.        ,\n",
       "        -1.        ],\n",
       "       [-1.59716652, -1.59870234, -1.59434229, -1.58811176, -2.84279953,\n",
       "        -3.64090911],\n",
       "       [-0.19      , -0.19      , -0.196     ,  1.85860595, -1.        ,\n",
       "        -1.        ]])"
      ]
     },
     "execution_count": 18,
     "metadata": {},
     "output_type": "execute_result"
    }
   ],
   "source": [
    "q_table"
   ]
  }
 ],
 "metadata": {
  "kernelspec": {
   "display_name": "Python 3",
   "language": "python",
   "name": "python3"
  },
  "language_info": {
   "codemirror_mode": {
    "name": "ipython",
    "version": 3
   },
   "file_extension": ".py",
   "mimetype": "text/x-python",
   "name": "python",
   "nbconvert_exporter": "python",
   "pygments_lexer": "ipython3",
   "version": "3.6.13"
  }
 },
 "nbformat": 4,
 "nbformat_minor": 5
}
